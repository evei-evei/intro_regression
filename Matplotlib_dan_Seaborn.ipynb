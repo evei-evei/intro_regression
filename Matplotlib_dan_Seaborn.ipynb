{
  "nbformat": 4,
  "nbformat_minor": 0,
  "metadata": {
    "colab": {
      "provenance": []
    },
    "kernelspec": {
      "name": "python3",
      "display_name": "Python 3"
    },
    "language_info": {
      "name": "python"
    }
  },
  "cells": [
    {
      "cell_type": "markdown",
      "source": [
        "# **MATPLOTLIB**"
      ],
      "metadata": {
        "id": "fhsMXddB2u5L"
      }
    },
    {
      "cell_type": "markdown",
      "source": [
        "Matplotlib adalah library yang digunakan dalam bahasa pemrograman Python untuk menciptakan visualisasi data dengan grafis yang menarik dan informatif. \\\\\n",
        "\n",
        "Seperti diketahui, visualisasi data merupakan aspek kunci dalam analisis karena bisa membantu memahami tren dan pola dalam data yang sedang kita kerjakan. Matplotlib menyediakan alat yang fleksibel dan mudah digunakan untuk menciptakan visualisasi tersebut. \\\\\n",
        "\n",
        "Dengan Matplotlib, kamu dapat membuat grafik garis, scatter plot, histogram, dan banyak lainnya dari data yang dimiliki. \\\\\n",
        "\n",
        "Misalnya, jika kamu memiliki data penjualan bulanan, kamu bisa menggunakan Matplotlib untuk menggambarkan tren penjualan dalam bentuk grafik. Alhasil, tren tersebut lebih mudah dilihat dan dipahami. \\\\\n",
        "\n",
        "Salah satu kelebihan lain dari Matplotlib adalah kemudahan dalam penggunaan. Hanya dengan menggunakan beberapa baris kode sederhana, kamu bisa menciptakan visualisasi yang kompleks. Visualisasi ini nantinya akan membantumu mengkomunikasikan temuan analisis kepada orang lain."
      ],
      "metadata": {
        "id": "DFO9VZ9B263c"
      }
    },
    {
      "cell_type": "markdown",
      "source": [
        "## **Cara Mengimpor Modul Matplotlib**"
      ],
      "metadata": {
        "id": "hq87fq-3_DkC"
      }
    },
    {
      "cell_type": "markdown",
      "source": [
        "Agar bisa menggunakan Matplotlib, kamu perlu mengimpor modul Matplotlib ke dalam kode Python. Proses ini sangat sederhana dan bisa dilakukan dengan mudah. Pertama, kamu harus memastikan Matplotlib sudah terinstal di sistem kamu."
      ],
      "metadata": {
        "id": "E-SYFPhV_WSS"
      }
    },
    {
      "cell_type": "code",
      "execution_count": null,
      "metadata": {
        "id": "_RgRiGxQ1vUY"
      },
      "outputs": [],
      "source": [
        "pip install matplotlib"
      ]
    },
    {
      "cell_type": "markdown",
      "source": [
        "Kemudian, kamu dapat mulai mengimpor modul Matplotlib ke dalam kode Python milikmu. \\\\\n",
        "\n",
        "Ada beberapa cara untuk melakukan ini, tetapi cara yang paling umum adalah menggunakan perintah import untuk mengimpor matplotlib.pyplot.Berikut contoh kodenya:"
      ],
      "metadata": {
        "id": "dAUHcu5fAFIG"
      }
    },
    {
      "cell_type": "code",
      "source": [
        "import matplotlib.pyplot as plt"
      ],
      "metadata": {
        "id": "IcTkfhIGAAQ0"
      },
      "execution_count": null,
      "outputs": []
    },
    {
      "cell_type": "markdown",
      "source": [
        "Dalam contoh tersebut, kita mengambil library matplotlib.pyplot. Programmer umumnya menyingkat nama fungsi ini sebagai plt agar memudahkan dalam pemanggilan di kemudian hari. \\\\\n",
        "\n",
        "Sekarang, kamu sudah bisa menggunakan plt untuk mengakses semua fungsi dan fitur yang ada dalam modul matplotlib.pyplot. \\\\\n",
        "\n",
        "Setelah modul diimpor, kamu bebas menggunakan berbagai alat dan fungsi yang disediakan untuk menciptakan grafik dan diagram yang akan membantumu dalam analisis data. \\\\"
      ],
      "metadata": {
        "id": "-4p8s0K0ASs3"
      }
    },
    {
      "cell_type": "markdown",
      "source": [
        "## **Cara Membuat Grafik Sederhana dengan Matplotlib**"
      ],
      "metadata": {
        "id": "azNchbaTAh6a"
      }
    },
    {
      "cell_type": "markdown",
      "source": [
        "## **Impor modul**"
      ],
      "metadata": {
        "id": "rIN1RzgUAonZ"
      }
    },
    {
      "cell_type": "markdown",
      "source": [
        "Pertama, kamu perlu mengimpor modul Matplotlib. Seperti yang telah kita bahas sebelumnya, kamu bisa melakukannya dengan baris kode berikut"
      ],
      "metadata": {
        "id": "hnJ7q2q9A_Yb"
      }
    },
    {
      "cell_type": "code",
      "source": [
        "import matplotlib.pyplot as plt"
      ],
      "metadata": {
        "id": "3JfRV2o_AcQS"
      },
      "execution_count": null,
      "outputs": []
    },
    {
      "cell_type": "markdown",
      "source": [
        "## **Siapkan data**"
      ],
      "metadata": {
        "id": "mPC9DCpqBQyM"
      }
    },
    {
      "cell_type": "markdown",
      "source": [
        "Selanjutnya, tentukan data yang ingin kamu plot. \\\\\n",
        "Misalnya, kamu ingin membuat grafik garis yang menghubungkan titik-titik (1,2), (2,4), dan (3,6), kamu bisa menuliskan"
      ],
      "metadata": {
        "id": "8p2dms47Bq93"
      }
    },
    {
      "cell_type": "code",
      "source": [
        "X = [1, 2, 3]\n",
        "y = [2, 4, 6]"
      ],
      "metadata": {
        "id": "a_NB8CTqBk-4"
      },
      "execution_count": null,
      "outputs": []
    },
    {
      "cell_type": "markdown",
      "source": [
        "## **Gunakan metode plot()**"
      ],
      "metadata": {
        "id": "0hIgeAXdB2ga"
      }
    },
    {
      "cell_type": "markdown",
      "source": [
        "Metode plot() dipakai untuk menggambar grafik garis. Kamu dapat menggunakannya dengan cara berikut"
      ],
      "metadata": {
        "id": "huCxkO68CAVF"
      }
    },
    {
      "cell_type": "code",
      "source": [
        "plt.plot(x, y)"
      ],
      "metadata": {
        "id": "yv6jNYtcCBq8"
      },
      "execution_count": null,
      "outputs": []
    },
    {
      "cell_type": "markdown",
      "source": [
        "## **Tampilkan grafik**"
      ],
      "metadata": {
        "id": "UQnksDkxCXC-"
      }
    },
    {
      "cell_type": "markdown",
      "source": [
        "Setelahnya, gunakan metode show() untuk menampilkan grafik yang telah kamu buat."
      ],
      "metadata": {
        "id": "2DXXHYomCa-0"
      }
    },
    {
      "cell_type": "code",
      "source": [
        "plt.show()"
      ],
      "metadata": {
        "id": "dZWEbkADCfPa"
      },
      "execution_count": null,
      "outputs": []
    },
    {
      "cell_type": "markdown",
      "source": [
        "Kode lengkap untuk membuat grafik garis di atas adalah sebagai berikut."
      ],
      "metadata": {
        "id": "V0jPe1nQCpAq"
      }
    },
    {
      "cell_type": "code",
      "source": [
        "import matplotlib.pyplot as plt\n",
        "X = [1, 2, 3]\n",
        "y = [2, 4, 6]\n",
        "plt.plot(x, y)\n",
        "plt.show()"
      ],
      "metadata": {
        "id": "8780rI8GCwbI"
      },
      "execution_count": null,
      "outputs": []
    },
    {
      "cell_type": "markdown",
      "source": [
        "# **Jenis Grafik yang Dapat Dibuat dengan Matplotlib**"
      ],
      "metadata": {
        "id": "SUxr7grRC9Mj"
      }
    },
    {
      "cell_type": "markdown",
      "source": [
        "Berikut beberapa jenis grafik yang bisa dibuat dengan Matplotlib:"
      ],
      "metadata": {
        "id": "rrNjz5V2C_u2"
      }
    },
    {
      "cell_type": "markdown",
      "source": [
        "## **Grafik garis (line graphs)**"
      ],
      "metadata": {
        "id": "51byxvM-DL-r"
      }
    },
    {
      "cell_type": "markdown",
      "source": [
        "Grafik garis biasanya digunakan untuk menampilkan tren data sepanjang interval waktu. Gunakan metode plot() untuk membuat grafik ini."
      ],
      "metadata": {
        "id": "dNKPwro6Dry4"
      }
    },
    {
      "cell_type": "code",
      "source": [
        "plt.scatter(x, y)\n",
        "plt.show()"
      ],
      "metadata": {
        "id": "v5TlsB0aDtBE"
      },
      "execution_count": null,
      "outputs": []
    },
    {
      "cell_type": "markdown",
      "source": [
        "## **Grafik batang (bar chart)**"
      ],
      "metadata": {
        "id": "oWzeZ1oGDxB0"
      }
    },
    {
      "cell_type": "markdown",
      "source": [
        "Bar chart berguna untuk membandingkan nilai individu di kategori yang berbeda. Kamu dapat menggunakan metode bar() untuk membuat grafik ini."
      ],
      "metadata": {
        "id": "Mx5Lg2NOD6Yc"
      }
    },
    {
      "cell_type": "code",
      "source": [
        "plt.bar(x, y)\n",
        "plt.show()"
      ],
      "metadata": {
        "id": "rq5A1_PlEBIN"
      },
      "execution_count": null,
      "outputs": []
    },
    {
      "cell_type": "markdown",
      "source": [
        "## **Grafik sebar (scatter plot)**"
      ],
      "metadata": {
        "id": "N2qdOaU3EDyx"
      }
    },
    {
      "cell_type": "markdown",
      "source": [
        "Scatter plot dipakai untuk menampilkan hubungan antara dua variabel berkelanjutan. Penggunaanya dengan metode scatter()."
      ],
      "metadata": {
        "id": "D_Qnt8y6ELYc"
      }
    },
    {
      "cell_type": "code",
      "source": [
        "plt.scatter(x, y)\n",
        "plt.show()"
      ],
      "metadata": {
        "id": "DQtQ25pmER3S"
      },
      "execution_count": null,
      "outputs": []
    },
    {
      "cell_type": "markdown",
      "source": [
        "## **Histogram**"
      ],
      "metadata": {
        "id": "rXrf1m6JEVUm"
      }
    },
    {
      "cell_type": "markdown",
      "source": [
        "Histogram berfungsi untuk menampilkan distribusi data dalam rentang yang telah ditentukan. Untuk membuatnya, gunakan fungsi hist()."
      ],
      "metadata": {
        "id": "neCuj_evEafn"
      }
    },
    {
      "cell_type": "code",
      "source": [
        "plt.hist(x, bins=10)\n",
        "plt.show"
      ],
      "metadata": {
        "id": "shZ88gAKEdqf"
      },
      "execution_count": null,
      "outputs": []
    },
    {
      "cell_type": "markdown",
      "source": [
        "## **Pie chart**"
      ],
      "metadata": {
        "id": "0VaJIQ_IEiH5"
      }
    },
    {
      "cell_type": "markdown",
      "source": [
        "Pie chart menampilkan proporsi dari keseluruhan dalam kategori yang berbeda. Gunakan fungsi pie() untuk membuat grafik ini."
      ],
      "metadata": {
        "id": "VDUhM4GyEnET"
      }
    },
    {
      "cell_type": "code",
      "source": [
        "plt.pie(x, labels=labels)\n",
        "plt.show()"
      ],
      "metadata": {
        "id": "ZC_OnuXYEsdF"
      },
      "execution_count": null,
      "outputs": []
    },
    {
      "cell_type": "markdown",
      "source": [
        "## **Box plot**"
      ],
      "metadata": {
        "id": "BTWYuKauEvTs"
      }
    },
    {
      "cell_type": "markdown",
      "source": [
        "Box plot dipakai untuk menampilkan ringkasan statistik data seperti median, kuartil, dan pencilan. Untuk membuatnya, gunakan fungsi boxplot()."
      ],
      "metadata": {
        "id": "uqqgQyaQE0zt"
      }
    },
    {
      "cell_type": "code",
      "source": [
        "plt.boxplot(x)\n",
        "plt.show()"
      ],
      "metadata": {
        "id": "pPRHQ_xhE4BI"
      },
      "execution_count": null,
      "outputs": []
    },
    {
      "cell_type": "markdown",
      "source": [
        "## **Grafik kontur (contour plot):**"
      ],
      "metadata": {
        "id": "NfXyo91xE8X7"
      }
    },
    {
      "cell_type": "markdown",
      "source": [
        "Contour plot berguna untuk menampilkan kontur dari fungsi tiga dimensi. Gunakan metode contour() untuk membuat grafiknya.\n",
        "\n"
      ],
      "metadata": {
        "id": "YDKxwTUiFC6j"
      }
    },
    {
      "cell_type": "code",
      "source": [
        "plt.contour(X, Y, Z)\n",
        "plt.show"
      ],
      "metadata": {
        "id": "0AF0HPvEFGz1"
      },
      "execution_count": null,
      "outputs": []
    },
    {
      "cell_type": "markdown",
      "source": [
        "## **Grafik 3D**"
      ],
      "metadata": {
        "id": "y6sWCFhWFJwy"
      }
    },
    {
      "cell_type": "markdown",
      "source": [
        "Grafik 3D berfungsi untuk memvisualisasikan data dalam tiga dimensi. Untuk membuatnya, gunakan kode berikut."
      ],
      "metadata": {
        "id": "JjpngCMEFOOf"
      }
    },
    {
      "cell_type": "code",
      "source": [
        "from mpl toolkits.mplot3d import Axes3D\n",
        "ax = plt. axes (projection='3d' )\n",
        "ax.plot_surface(X, Y, Z)\n",
        "plt.show()"
      ],
      "metadata": {
        "id": "HkNysNv-FSYc"
      },
      "execution_count": null,
      "outputs": []
    },
    {
      "cell_type": "markdown",
      "source": [
        "## **Grafik area (area plot):**"
      ],
      "metadata": {
        "id": "8ETxOCMlFYmB"
      }
    },
    {
      "cell_type": "markdown",
      "source": [
        "Area plot menampilkan kuantitas melalui area yang diisi. Pembuatannya bisa dengan menggunakan fungsi between()."
      ],
      "metadata": {
        "id": "y01Mao21FeNW"
      }
    },
    {
      "cell_type": "code",
      "source": [
        "plt.fill_between(x, y1, y2)\n",
        "plt.show()"
      ],
      "metadata": {
        "id": "XpxlKrg_FiUL"
      },
      "execution_count": null,
      "outputs": []
    },
    {
      "cell_type": "markdown",
      "source": [
        "## **Grafik hexbin**"
      ],
      "metadata": {
        "id": "1TTARuqUFq2P"
      }
    },
    {
      "cell_type": "markdown",
      "source": [
        "Grafik hexbin mirip dengan scatter plot, tetapi grafik ini menggunakan heksagon."
      ],
      "metadata": {
        "id": "Tj_e2nuVFxAw"
      }
    },
    {
      "cell_type": "code",
      "source": [
        "plt.hexbin(x, y, gridsize=30)\n",
        "plt.show()"
      ],
      "metadata": {
        "id": "lGkTY7SFFzow"
      },
      "execution_count": null,
      "outputs": []
    },
    {
      "cell_type": "markdown",
      "source": [
        "# **SEABORN**"
      ],
      "metadata": {
        "id": "M-r8dUEgGkP4"
      }
    },
    {
      "cell_type": "markdown",
      "source": [
        "Seaborn adalah library visualisasi data berbasis Python yang menyediakan high-level interface (antarmuka tingkat tinggi) untuk menggambar grafik statistik yang informatif. \\\\\n",
        "\n",
        "Seaborn dibangun di atas Matplotlib, yaitu salah satu library visualisasi data paling dasar dan populer di Python. Artinya, Seaborn memanfaatkan fungsionalitas inti dari Matplotlib, sambil menambahkan lapisan abstraksi untuk memudahkan analyst membuat visualisasi yang lebih kompleks. \\\\\n",
        "\n",
        "Menurut GeeksforGeeks, Seaborn memudahkan dalam memvisualisasikan data dengan berbagai jenis plot seperti distribusi, kategorikal, matriks, dan banyak lagi. Dengan kata lain, jika kamu ingin melihat distribusi data atau hubungan antara dua variabel, Seaborn memiliki alat yang tepat untuk melakukannya. \\\\\n",
        "\n",
        "Tak hanya itu, Seaborn juga terintegrasi baik dengan struktur data Pandas, sehingga memungkinkan analisis dan visualisasi data menjadi lebih lancar. \\\\"
      ],
      "metadata": {
        "id": "6WOHnLAMHA_X"
      }
    },
    {
      "cell_type": "markdown",
      "source": [
        "## **Instalasi Seaborn**"
      ],
      "metadata": {
        "id": "rKk5tXy2H4e6"
      }
    },
    {
      "cell_type": "markdown",
      "source": [
        "Berikut langkah-langkah menginstal Seaborn menggunakan PIP:"
      ],
      "metadata": {
        "id": "4uRktdaUH7TI"
      }
    },
    {
      "cell_type": "markdown",
      "source": [
        "### **Persiapkan environment kerja Python**"
      ],
      "metadata": {
        "id": "712QLbf5IAAa"
      }
    },
    {
      "cell_type": "markdown",
      "source": [
        "Sebelum menginstal Seaborn, pastikan kamu sudah memiliki Python dan PIP terinstal di komputermu. Jika belum, kamu bisa mendownload dan menginstal Python dari website resminya. \\\\\n",
        "\n",
        "Saat menginstal Python, PIP biasanya sudah termasuk dalam paket instalasi."
      ],
      "metadata": {
        "id": "f062YUJgIJ3q"
      }
    },
    {
      "cell_type": "markdown",
      "source": [
        "### **Instalasi Seaborn**"
      ],
      "metadata": {
        "id": "B4NXGjRBISSb"
      }
    },
    {
      "cell_type": "markdown",
      "source": [
        "Setelah memastikan PIP berfungsi dengan baik, buka terminal atau command prompt dan ketik perintah berikut:"
      ],
      "metadata": {
        "id": "Qyju2sdkIXD7"
      }
    },
    {
      "cell_type": "markdown",
      "source": [
        "### **Mengatur environment Kerja Python**"
      ],
      "metadata": {
        "id": "afAim9EJIrx7"
      }
    },
    {
      "cell_type": "markdown",
      "source": [
        "Setelah Seaborn terinstal, kamu bisa mulai mengatur environment kerja Python di perangkatmu. Pertama, buat sebuah file Python baru atau buka interpreter Python interaktif. Kemudian, impor library yang diperlukan. \\\\\n",
        "\n",
        "Untuk menggunakan Seaborn, kamu juga perlu mengimpor Matplotlib karena Seaborn dibangun di atasnya. Berikut cara mengimpornya:"
      ],
      "metadata": {
        "id": "Qg-rBeCUIu0_"
      }
    },
    {
      "cell_type": "code",
      "source": [
        "import seaborn as sns\n",
        "import matplotlib.pyplot as plt"
      ],
      "metadata": {
        "id": "qwTFSf_kI_0L"
      },
      "execution_count": null,
      "outputs": []
    },
    {
      "cell_type": "markdown",
      "source": [
        "## **Cara Memuat Data untuk Visualisasi**"
      ],
      "metadata": {
        "id": "bcOXKWlfJAwF"
      }
    },
    {
      "cell_type": "markdown",
      "source": [
        "Sebelum memulai visualisasi data dengan Seaborn, langkah pertama yang harus dilakukan adalah memuat data yang ingin divisualisasikan. \\\\\n",
        "\n",
        "Seaborn menyediakan beberapa cara untuk melakukan ini:"
      ],
      "metadata": {
        "id": "KiahvlqTJJa_"
      }
    },
    {
      "cell_type": "markdown",
      "source": [
        "### **Menggunakan dataset sampel dari Seaborn**"
      ],
      "metadata": {
        "id": "C9MKjcj_JOKX"
      }
    },
    {
      "cell_type": "markdown",
      "source": [
        "Salah satu fitur menarik dari Seaborn adalah kemampuannya memuat dataset sampel yang sudah disediakan. Fitur ini berguna jika kamu ingin belajar atau bereksperimen. \\\\\n",
        "\n",
        "Untuk memuat dataset sampel, kamu bisa menggunakan fungsi load_dataset(). Misalnya, untuk memuat dataset yang bernama 'tips', kamu bisa mengetik perintah berikut:"
      ],
      "metadata": {
        "id": "z8B5HBd9JSQG"
      }
    },
    {
      "cell_type": "code",
      "source": [
        "import seaborn as sns\n",
        "data = sns.load_dataset('tips')\n",
        "print(data.head())"
      ],
      "metadata": {
        "id": "3X0YJmjKJl4T"
      },
      "execution_count": null,
      "outputs": []
    },
    {
      "cell_type": "markdown",
      "source": [
        "Fungsi head() dari Pandas digunakan untuk menampilkan lima baris pertama dari dataset..\n",
        "\n"
      ],
      "metadata": {
        "id": "-kuJJoUIJmr1"
      }
    },
    {
      "cell_type": "markdown",
      "source": [
        "### **Menggunakan data yang sudah ada**"
      ],
      "metadata": {
        "id": "P5Adm-J4JsSw"
      }
    },
    {
      "cell_type": "markdown",
      "source": [
        "Jika kamu memiliki data sendiri, misalnya dalam format CSV, kamu bisa memanfaatkan library Pandas untuk memuatnya. \\\\\n",
        "\n",
        "Setelah data dimuat ke dalam DataFrame Pandas, kamu akan lebih mudah memvisualisasikannya dengan Seaborn. Berikut contoh cara memuat data dari file CSV:"
      ],
      "metadata": {
        "id": "qO1qGUwEJvk3"
      }
    },
    {
      "cell_type": "code",
      "source": [
        "import pandas as pd\n",
        "import seaborn as sns\n",
        "\n",
        "data = pd.read_csv('lokasi_file.csv')\n",
        "print(data.head())"
      ],
      "metadata": {
        "id": "0wRFfGVsJ0WZ"
      },
      "execution_count": null,
      "outputs": []
    },
    {
      "cell_type": "markdown",
      "source": [
        "## **Cara Membuat Berbagai Jenis Plot dengan Seaborn**"
      ],
      "metadata": {
        "id": "wtA91yA6J4im"
      }
    },
    {
      "cell_type": "markdown",
      "source": [
        "Seaborn menawarkan berbagai jenis plot yang dapat membantu kamu dalam menganalisis dan mempresentasikan data. Berikut beberapa jenis plot Seaborn sekaligus cara membuatnya:"
      ],
      "metadata": {
        "id": "zaR_ubzJKN6j"
      }
    },
    {
      "cell_type": "markdown",
      "source": [
        "### **Scatter plot**"
      ],
      "metadata": {
        "id": "1ClS-0-3KSsy"
      }
    },
    {
      "cell_type": "markdown",
      "source": [
        "Plot ini berguna untuk menampilkan hubungan antara dua variabel kontinu."
      ],
      "metadata": {
        "id": "lmoR9bbWKW2K"
      }
    },
    {
      "cell_type": "code",
      "source": [
        "import seaborn as sns\n",
        "import matplotlib.pyplot as plt\n",
        "\n",
        "data = sns.load_dataset('tips')\n",
        "sns.scatterplot(x='total_bill', y='tip', data=data)\n",
        "plt.show()"
      ],
      "metadata": {
        "id": "Zx5b6C7ZKaH1"
      },
      "execution_count": null,
      "outputs": []
    },
    {
      "cell_type": "markdown",
      "source": [
        "### **Line plot**"
      ],
      "metadata": {
        "id": "mc_2Bw73KfIX"
      }
    },
    {
      "cell_type": "code",
      "source": [
        "data = sns.load_dataset('flights')\n",
        "data_pivot = data.pivot_table(index='month', columns='year', values='passengers')\n",
        "sns.lineplot(data=data_pivot)\n",
        "plt.show()"
      ],
      "metadata": {
        "id": "cMh4BzFyKjAA"
      },
      "execution_count": null,
      "outputs": []
    },
    {
      "cell_type": "markdown",
      "source": [
        "### **Bar plot**"
      ],
      "metadata": {
        "id": "aJsQqlEaKqVM"
      }
    },
    {
      "cell_type": "markdown",
      "source": [
        "Plot jenis ini berguna untuk membandingkan kuantitas variabel kategorikal."
      ],
      "metadata": {
        "id": "uc9UN2U-KuXF"
      }
    },
    {
      "cell_type": "code",
      "source": [
        "data = sns.load_dataset('tips')\n",
        "sns.barplot(x='day', y='total_bill', data=data)\n",
        "plt.show()"
      ],
      "metadata": {
        "id": "5y9pNRctKxPt"
      },
      "execution_count": null,
      "outputs": []
    },
    {
      "cell_type": "markdown",
      "source": [
        "### **Histogram**\n",
        "Histogram dipakai untuk menampilkan distribusi dari satu variabel kontinu."
      ],
      "metadata": {
        "id": "VSZfVRfIK6cF"
      }
    },
    {
      "cell_type": "code",
      "source": [
        "data = sns.load_dataset('tips')\n",
        "sns.histplot(data['total_bill'])\n",
        "plt.show()"
      ],
      "metadata": {
        "id": "nSg_cIOCK-Ve"
      },
      "execution_count": null,
      "outputs": []
    },
    {
      "cell_type": "markdown",
      "source": [
        "### **Box plot**\n",
        "Box plot menunjukkan distribusi data melalui kuartil dan dapat mengidentifikasi pencilan."
      ],
      "metadata": {
        "id": "VaNA5rcMLBZ2"
      }
    },
    {
      "cell_type": "code",
      "source": [
        "data = sns.load_dataset('tips')\n",
        "sns.boxplot(x='day', y='total_bill', data=data)\n",
        "plt.show()"
      ],
      "metadata": {
        "id": "v242oc6ZLIyd"
      },
      "execution_count": null,
      "outputs": []
    },
    {
      "cell_type": "markdown",
      "source": [
        "### **Heatmap**\n",
        "Heatmap berguna untuk menampilkan korelasi atau hubungan antara dua variabel kategorikal."
      ],
      "metadata": {
        "id": "HMQls61mLL_u"
      }
    },
    {
      "cell_type": "code",
      "source": [
        "data = sns.load_dataset('flights')\n",
        "data_pivot = data.pivot_table(index='month', columns='year', values='passengers')\n",
        "sns.heatmap(data_pivot, cmap='YlGnBu')\n",
        "plt.show()"
      ],
      "metadata": {
        "id": "EhqK5wAaLTLB"
      },
      "execution_count": null,
      "outputs": []
    },
    {
      "cell_type": "markdown",
      "source": [
        "## **Cara Mengubah Tampilan Plot dengan Seaborn**"
      ],
      "metadata": {
        "id": "WWqTj_UBLWMP"
      }
    },
    {
      "cell_type": "markdown",
      "source": [
        "Berikut beberapa cara mengubah tampilan plot dengan Seaborn:"
      ],
      "metadata": {
        "id": "8qPeYod7Laq9"
      }
    },
    {
      "cell_type": "markdown",
      "source": [
        "**Mengubah warna plot:** Seaborn memiliki palet warna beragam yang dapat kamu gunakan untuk mempercantik plot. Misalnya, jika kamu ingin mengubah warna scatter plot, gunakan perintah berikut:"
      ],
      "metadata": {
        "id": "WpeaOZfQLd-9"
      }
    },
    {
      "cell_type": "code",
      "source": [
        "import seaborn as sns\n",
        "import matplotlib.pyplot as plt\n",
        "data = sns.load_dataset('tips')\n",
        "sns.scatterplot(x='total_bill', y='tip', data=data, palette='viridis')\n",
        "plt.show()"
      ],
      "metadata": {
        "id": "6bquE-FpL1MF"
      },
      "execution_count": null,
      "outputs": []
    },
    {
      "cell_type": "markdown",
      "source": [
        "**Menambahkan dan mengkustomisasi label:** label sangat penting untuk memastikan bahwa audiens memahami informasi yang disajikan. Berikut perintah untuk menggunakannya:"
      ],
      "metadata": {
        "id": "_hjz9dv2MKxR"
      }
    },
    {
      "cell_type": "code",
      "source": [
        "sns.scatterplot(x='total_bill', y='tip', data=data)\n",
        "plt.title('Hubungan antara Total Bill dan Tip')\n",
        "plt.xlabel('Total Bill')\n",
        "plt.ylabel('Tip')\n",
        "plt.show()"
      ],
      "metadata": {
        "id": "gGaUNqPBMcIQ"
      },
      "execution_count": null,
      "outputs": []
    },
    {
      "cell_type": "markdown",
      "source": [
        "**Mengubah style plot:** Seaborn memungkinkan kamu mengubah style backround plot dengan fungsi **set_style().**"
      ],
      "metadata": {
        "id": "0FfGU7nBMfO5"
      }
    },
    {
      "cell_type": "code",
      "source": [
        "sns.set_style(\"whitegrid\")\n",
        "sns.scatterplot(x='total_bill', y='tip', data=data)\n",
        "plt.show()"
      ],
      "metadata": {
        "id": "ZKIM2w4MMmVD"
      },
      "execution_count": null,
      "outputs": []
    },
    {
      "cell_type": "markdown",
      "source": [
        "**Menyesuaikan ukuran dan bentuk titik:** pada scatter plot, kamu bisa mengubah ukuran dan bentuk titik berdasarkan variabel tertentu."
      ],
      "metadata": {
        "id": "IjEIzSoXMqtQ"
      }
    },
    {
      "cell_type": "code",
      "source": [
        "sns.scatterplot(x='total_bill', y='tip',\n",
        "data=data, size='size', hue='sex', style='time')\n",
        "plt.show()"
      ],
      "metadata": {
        "id": "5PcTRgDDMwV4"
      },
      "execution_count": null,
      "outputs": []
    },
    {
      "cell_type": "markdown",
      "source": [
        "**Menggunakan tema:** Seaborn menyediakan beberapa tema bawaan yang dapat kamu gunakan untuk mengubah tampilan keseluruhan plot dengan mudah."
      ],
      "metadata": {
        "id": "aYSlbNSFM5yz"
      }
    },
    {
      "cell_type": "code",
      "source": [
        "sns.set_theme(style=\"darkgrid\")\n",
        "sns.lineplot(data=data_pivot)\n",
        "plt.show()"
      ],
      "metadata": {
        "id": "Ta2dEY0fM8EJ"
      },
      "execution_count": null,
      "outputs": []
    },
    {
      "cell_type": "markdown",
      "source": [
        "## **Cara Membuat Heatmap dan Korelasi dengan Seaborn**"
      ],
      "metadata": {
        "id": "lLjcdY0WM-9y"
      }
    },
    {
      "cell_type": "markdown",
      "source": [
        "Heatmap adalah salah satu jenis visualisasi untuk menampilkan hubungan antara dua variabel kategorikal atau untuk menampilkan korelasi antara variabel-variabel dalam dataset. \\\\\n",
        "\n",
        "Pada konteks analisis data, heatmap sering dipakai untuk memvisualisasikan matriks korelasi antara variabel. \\\\\n",
        "\n",
        "Berikut cara membuat heatmap untuk matriks korelasi. \\\\\n",
        "\n",
        "Pertama-tama, kamu perlu menghitung matriks korelasi dari dataset menggunakan Pandas. Kemudian, kamu bisa memvisualisasikannya dengan Seaborn. \\\\"
      ],
      "metadata": {
        "id": "186_w_NyNFWr"
      }
    },
    {
      "cell_type": "code",
      "source": [
        "import seaborn as sns\n",
        "import matplotlib.pyplot as plt\n",
        "import pandas as pd\n",
        "\n",
        "data = sns.load_dataset('tips')\n",
        "korelasi = data.corr()\n",
        "sns.heatmap(korelasi, annot=True, cmap='coolwarm')\n",
        "plt.show()"
      ],
      "metadata": {
        "id": "ak5UppZdNOd7"
      },
      "execution_count": null,
      "outputs": []
    },
    {
      "cell_type": "markdown",
      "source": [
        "Dalam kode di atas, data.corr() menghitung matriks korelasi dari dataset. Parameter annot=True memastikan bahwa nilai korelasi ditampilkan di dalam sel heatmap. Sementara cmap digunakan untuk menentukan palet warna. \\\\\n",
        "\n",
        "Jika kamu ingin mengubah format annotation pada heatmap, kamu bisa menambahkan parameter fmt. Contoh:"
      ],
      "metadata": {
        "id": "PYVmOgZANSQI"
      }
    },
    {
      "cell_type": "code",
      "source": [
        "data = sns.load_dataset('tips')\n",
        "korelasi = data.corr()\n",
        "sns.heatmap(korelasi, annot=True, cmap='coolwarm', fmt='.4f')\n",
        "plt.show()"
      ],
      "metadata": {
        "id": "EIegbrJwNV5A"
      },
      "execution_count": null,
      "outputs": []
    },
    {
      "cell_type": "markdown",
      "source": [
        "Dengan menambahkan fmt='.4f', nilai korelasi akan ditampilkan dengan empat angka desimal. \\\\\n",
        "\n",
        "Selain membuat matriks korelasi, heatmap juga memungkinkan kamu dengan cepat mengidentifikasi hubungan antara variabel. \\\\\n",
        "\n",
        "Warna yang lebih hangat (misalnya, merah atau oranye) biasanya menunjukkan korelasi positif yang kuat, sedangkan warna yang lebih dingin (seperti biru) menunjukkan korelasi negatif. Jika sel dalam heatmap berwarna netral atau mendekati nol, menunjukkan tidak ada korelasi yang signifikan antara dua variabel tersebut. \\\\"
      ],
      "metadata": {
        "id": "h48GRo4INhHu"
      }
    }
  ]
}